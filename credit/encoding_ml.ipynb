{
 "cells": [
  {
   "cell_type": "code",
   "execution_count": 45,
   "id": "298c9474",
   "metadata": {},
   "outputs": [],
   "source": [
    "import matplotlib.pyplot as plt\n",
    "import seaborn as sns"
   ]
  },
  {
   "cell_type": "code",
   "execution_count": 4,
   "id": "e1f81c80",
   "metadata": {},
   "outputs": [
    {
     "data": {
      "text/html": [
       "<div>\n",
       "<style scoped>\n",
       "    .dataframe tbody tr th:only-of-type {\n",
       "        vertical-align: middle;\n",
       "    }\n",
       "\n",
       "    .dataframe tbody tr th {\n",
       "        vertical-align: top;\n",
       "    }\n",
       "\n",
       "    .dataframe thead th {\n",
       "        text-align: right;\n",
       "    }\n",
       "</style>\n",
       "<table border=\"1\" class=\"dataframe\">\n",
       "  <thead>\n",
       "    <tr style=\"text-align: right;\">\n",
       "      <th></th>\n",
       "      <th>Unnamed: 0</th>\n",
       "      <th>person_age</th>\n",
       "      <th>person_education</th>\n",
       "      <th>person_income</th>\n",
       "      <th>person_home_ownership</th>\n",
       "      <th>loan_amnt</th>\n",
       "      <th>loan_intent</th>\n",
       "      <th>loan_int_rate</th>\n",
       "      <th>loan_percent_income</th>\n",
       "      <th>credit_score</th>\n",
       "      <th>previous_loan_defaults_on_file</th>\n",
       "      <th>loan_status</th>\n",
       "    </tr>\n",
       "  </thead>\n",
       "  <tbody>\n",
       "    <tr>\n",
       "      <th>0</th>\n",
       "      <td>0</td>\n",
       "      <td>3.135494</td>\n",
       "      <td>Master</td>\n",
       "      <td>11.183713</td>\n",
       "      <td>RENT</td>\n",
       "      <td>10.047334</td>\n",
       "      <td>PERSONAL</td>\n",
       "      <td>16.02</td>\n",
       "      <td>0.314811</td>\n",
       "      <td>561.0</td>\n",
       "      <td>No</td>\n",
       "      <td>1</td>\n",
       "    </tr>\n",
       "    <tr>\n",
       "      <th>1</th>\n",
       "      <td>1</td>\n",
       "      <td>3.091042</td>\n",
       "      <td>High School</td>\n",
       "      <td>9.415971</td>\n",
       "      <td>OWN</td>\n",
       "      <td>6.908755</td>\n",
       "      <td>EDUCATION</td>\n",
       "      <td>11.14</td>\n",
       "      <td>0.076961</td>\n",
       "      <td>504.0</td>\n",
       "      <td>Yes</td>\n",
       "      <td>0</td>\n",
       "    </tr>\n",
       "    <tr>\n",
       "      <th>2</th>\n",
       "      <td>2</td>\n",
       "      <td>3.258097</td>\n",
       "      <td>High School</td>\n",
       "      <td>9.428592</td>\n",
       "      <td>MORTGAGE</td>\n",
       "      <td>8.612685</td>\n",
       "      <td>MEDICAL</td>\n",
       "      <td>12.87</td>\n",
       "      <td>0.314811</td>\n",
       "      <td>635.0</td>\n",
       "      <td>No</td>\n",
       "      <td>1</td>\n",
       "    </tr>\n",
       "    <tr>\n",
       "      <th>3</th>\n",
       "      <td>3</td>\n",
       "      <td>3.178054</td>\n",
       "      <td>Bachelor</td>\n",
       "      <td>11.286702</td>\n",
       "      <td>RENT</td>\n",
       "      <td>10.047334</td>\n",
       "      <td>MEDICAL</td>\n",
       "      <td>15.23</td>\n",
       "      <td>0.314811</td>\n",
       "      <td>675.0</td>\n",
       "      <td>No</td>\n",
       "      <td>1</td>\n",
       "    </tr>\n",
       "    <tr>\n",
       "      <th>4</th>\n",
       "      <td>4</td>\n",
       "      <td>3.218876</td>\n",
       "      <td>Master</td>\n",
       "      <td>11.099469</td>\n",
       "      <td>RENT</td>\n",
       "      <td>10.047334</td>\n",
       "      <td>MEDICAL</td>\n",
       "      <td>14.27</td>\n",
       "      <td>0.314811</td>\n",
       "      <td>586.0</td>\n",
       "      <td>No</td>\n",
       "      <td>1</td>\n",
       "    </tr>\n",
       "    <tr>\n",
       "      <th>...</th>\n",
       "      <td>...</td>\n",
       "      <td>...</td>\n",
       "      <td>...</td>\n",
       "      <td>...</td>\n",
       "      <td>...</td>\n",
       "      <td>...</td>\n",
       "      <td>...</td>\n",
       "      <td>...</td>\n",
       "      <td>...</td>\n",
       "      <td>...</td>\n",
       "      <td>...</td>\n",
       "      <td>...</td>\n",
       "    </tr>\n",
       "    <tr>\n",
       "      <th>44995</th>\n",
       "      <td>44995</td>\n",
       "      <td>3.332205</td>\n",
       "      <td>Associate</td>\n",
       "      <td>10.778373</td>\n",
       "      <td>RENT</td>\n",
       "      <td>9.615872</td>\n",
       "      <td>MEDICAL</td>\n",
       "      <td>15.66</td>\n",
       "      <td>0.270027</td>\n",
       "      <td>645.0</td>\n",
       "      <td>No</td>\n",
       "      <td>1</td>\n",
       "    </tr>\n",
       "    <tr>\n",
       "      <th>44996</th>\n",
       "      <td>44996</td>\n",
       "      <td>3.637586</td>\n",
       "      <td>Associate</td>\n",
       "      <td>11.094390</td>\n",
       "      <td>RENT</td>\n",
       "      <td>9.105091</td>\n",
       "      <td>HOMEIMPROVEMENT</td>\n",
       "      <td>14.07</td>\n",
       "      <td>0.131028</td>\n",
       "      <td>621.0</td>\n",
       "      <td>No</td>\n",
       "      <td>1</td>\n",
       "    </tr>\n",
       "    <tr>\n",
       "      <th>44997</th>\n",
       "      <td>44997</td>\n",
       "      <td>3.526361</td>\n",
       "      <td>Associate</td>\n",
       "      <td>10.949806</td>\n",
       "      <td>RENT</td>\n",
       "      <td>7.927324</td>\n",
       "      <td>DEBTCONSOLIDATION</td>\n",
       "      <td>10.02</td>\n",
       "      <td>0.048790</td>\n",
       "      <td>668.0</td>\n",
       "      <td>No</td>\n",
       "      <td>1</td>\n",
       "    </tr>\n",
       "    <tr>\n",
       "      <th>44998</th>\n",
       "      <td>44998</td>\n",
       "      <td>3.401197</td>\n",
       "      <td>Bachelor</td>\n",
       "      <td>10.409250</td>\n",
       "      <td>RENT</td>\n",
       "      <td>9.392745</td>\n",
       "      <td>EDUCATION</td>\n",
       "      <td>13.23</td>\n",
       "      <td>0.307485</td>\n",
       "      <td>604.0</td>\n",
       "      <td>No</td>\n",
       "      <td>1</td>\n",
       "    </tr>\n",
       "    <tr>\n",
       "      <th>44999</th>\n",
       "      <td>44999</td>\n",
       "      <td>3.218876</td>\n",
       "      <td>High School</td>\n",
       "      <td>10.851471</td>\n",
       "      <td>RENT</td>\n",
       "      <td>8.804775</td>\n",
       "      <td>DEBTCONSOLIDATION</td>\n",
       "      <td>17.05</td>\n",
       "      <td>0.122218</td>\n",
       "      <td>628.0</td>\n",
       "      <td>No</td>\n",
       "      <td>1</td>\n",
       "    </tr>\n",
       "  </tbody>\n",
       "</table>\n",
       "<p>45000 rows × 12 columns</p>\n",
       "</div>"
      ],
      "text/plain": [
       "       Unnamed: 0  person_age person_education  person_income  \\\n",
       "0               0    3.135494           Master      11.183713   \n",
       "1               1    3.091042      High School       9.415971   \n",
       "2               2    3.258097      High School       9.428592   \n",
       "3               3    3.178054         Bachelor      11.286702   \n",
       "4               4    3.218876           Master      11.099469   \n",
       "...           ...         ...              ...            ...   \n",
       "44995       44995    3.332205        Associate      10.778373   \n",
       "44996       44996    3.637586        Associate      11.094390   \n",
       "44997       44997    3.526361        Associate      10.949806   \n",
       "44998       44998    3.401197         Bachelor      10.409250   \n",
       "44999       44999    3.218876      High School      10.851471   \n",
       "\n",
       "      person_home_ownership  loan_amnt        loan_intent  loan_int_rate  \\\n",
       "0                      RENT  10.047334           PERSONAL          16.02   \n",
       "1                       OWN   6.908755          EDUCATION          11.14   \n",
       "2                  MORTGAGE   8.612685            MEDICAL          12.87   \n",
       "3                      RENT  10.047334            MEDICAL          15.23   \n",
       "4                      RENT  10.047334            MEDICAL          14.27   \n",
       "...                     ...        ...                ...            ...   \n",
       "44995                  RENT   9.615872            MEDICAL          15.66   \n",
       "44996                  RENT   9.105091    HOMEIMPROVEMENT          14.07   \n",
       "44997                  RENT   7.927324  DEBTCONSOLIDATION          10.02   \n",
       "44998                  RENT   9.392745          EDUCATION          13.23   \n",
       "44999                  RENT   8.804775  DEBTCONSOLIDATION          17.05   \n",
       "\n",
       "       loan_percent_income  credit_score previous_loan_defaults_on_file  \\\n",
       "0                 0.314811         561.0                             No   \n",
       "1                 0.076961         504.0                            Yes   \n",
       "2                 0.314811         635.0                             No   \n",
       "3                 0.314811         675.0                             No   \n",
       "4                 0.314811         586.0                             No   \n",
       "...                    ...           ...                            ...   \n",
       "44995             0.270027         645.0                             No   \n",
       "44996             0.131028         621.0                             No   \n",
       "44997             0.048790         668.0                             No   \n",
       "44998             0.307485         604.0                             No   \n",
       "44999             0.122218         628.0                             No   \n",
       "\n",
       "       loan_status  \n",
       "0                1  \n",
       "1                0  \n",
       "2                1  \n",
       "3                1  \n",
       "4                1  \n",
       "...            ...  \n",
       "44995            1  \n",
       "44996            1  \n",
       "44997            1  \n",
       "44998            1  \n",
       "44999            1  \n",
       "\n",
       "[45000 rows x 12 columns]"
      ]
     },
     "execution_count": 4,
     "metadata": {},
     "output_type": "execute_result"
    }
   ],
   "source": [
    "import pandas as pd\n",
    "import numpy as np\n",
    "\n",
    "df = pd.read_csv(\"Cleaned_loan.csv\")\n",
    "df"
   ]
  },
  {
   "cell_type": "code",
   "execution_count": 5,
   "id": "eb62130d",
   "metadata": {},
   "outputs": [],
   "source": [
    "cat_feat = []\n",
    "num_feat = []\n",
    "for col in df.columns:\n",
    "    if df[col].dtype=='object':\n",
    "        cat_feat.append(col)\n",
    "    else:\n",
    "        num_feat.append(col)"
   ]
  },
  {
   "cell_type": "code",
   "execution_count": 7,
   "id": "a262131d",
   "metadata": {},
   "outputs": [
    {
     "data": {
      "text/plain": [
       "(['person_education',\n",
       "  'person_home_ownership',\n",
       "  'loan_intent',\n",
       "  'previous_loan_defaults_on_file'],\n",
       " ['Unnamed: 0',\n",
       "  'person_age',\n",
       "  'person_income',\n",
       "  'loan_amnt',\n",
       "  'loan_int_rate',\n",
       "  'loan_percent_income',\n",
       "  'credit_score',\n",
       "  'loan_status'])"
      ]
     },
     "execution_count": 7,
     "metadata": {},
     "output_type": "execute_result"
    }
   ],
   "source": [
    "cat_feat, num_feat"
   ]
  },
  {
   "cell_type": "code",
   "execution_count": 9,
   "id": "69ebc58d",
   "metadata": {},
   "outputs": [],
   "source": [
    "y = df['loan_status']\n",
    "X = df.drop('loan_status',axis=1)"
   ]
  },
  {
   "cell_type": "code",
   "execution_count": 12,
   "id": "d6308fcf",
   "metadata": {},
   "outputs": [],
   "source": [
    "X = X.drop('Unnamed: 0',axis=1)"
   ]
  },
  {
   "cell_type": "markdown",
   "id": "198cbafb",
   "metadata": {},
   "source": [
    "## **Making numerical and categorical feATURES LIST**"
   ]
  },
  {
   "cell_type": "code",
   "execution_count": 13,
   "id": "d68082d8",
   "metadata": {},
   "outputs": [
    {
     "data": {
      "text/plain": [
       "(['person_education',\n",
       "  'person_home_ownership',\n",
       "  'loan_intent',\n",
       "  'previous_loan_defaults_on_file'],\n",
       " ['person_age',\n",
       "  'person_income',\n",
       "  'loan_amnt',\n",
       "  'loan_int_rate',\n",
       "  'loan_percent_income',\n",
       "  'credit_score'])"
      ]
     },
     "execution_count": 13,
     "metadata": {},
     "output_type": "execute_result"
    }
   ],
   "source": [
    "cat_feat = []\n",
    "num_feat = []\n",
    "for col in X.columns:\n",
    "    if X[col].dtype=='object':\n",
    "        cat_feat.append(col)\n",
    "    else:\n",
    "        num_feat.append(col)\n",
    "\n",
    "cat_feat, num_feat"
   ]
  },
  {
   "cell_type": "code",
   "execution_count": 17,
   "id": "2efcd22a",
   "metadata": {},
   "outputs": [
    {
     "data": {
      "text/plain": [
       "previous_loan_defaults_on_file\n",
       "Yes    22858\n",
       "No     22142\n",
       "Name: count, dtype: int64"
      ]
     },
     "execution_count": 17,
     "metadata": {},
     "output_type": "execute_result"
    }
   ],
   "source": [
    "df['previous_loan_defaults_on_file'].value_counts()"
   ]
  },
  {
   "cell_type": "markdown",
   "id": "021754ba",
   "metadata": {},
   "source": [
    "## **Train Test Split**"
   ]
  },
  {
   "cell_type": "code",
   "execution_count": 18,
   "id": "1b5715f0",
   "metadata": {},
   "outputs": [],
   "source": [
    "from sklearn.model_selection import train_test_split\n",
    "X_train,X_test,y_train,y_test = train_test_split(X,y,train_size=0.2,random_state=42)"
   ]
  },
  {
   "cell_type": "markdown",
   "id": "e6dd973d",
   "metadata": {},
   "source": [
    "## **Making Pipeline**"
   ]
  },
  {
   "cell_type": "code",
   "execution_count": 22,
   "id": "0c778bf0",
   "metadata": {},
   "outputs": [],
   "source": [
    "from sklearn.pipeline import Pipeline\n",
    "from sklearn.compose import ColumnTransformer\n",
    "from sklearn.preprocessing import OneHotEncoder, OrdinalEncoder\n",
    "from sklearn.impute import SimpleImputer\n",
    "\n",
    "onehot_cols = ['person_home_ownership', 'loan_intent', 'previous_loan_defaults_on_file']\n",
    "ordinal_cols = ['person_education']\n",
    "\n",
    "ord_categorical_transformer = Pipeline(steps=[\n",
    "    ('imputer', SimpleImputer(strategy='most_frequent')),\n",
    "    ('encoder', OrdinalEncoder(handle_unknown='use_encoded_value', unknown_value=-1))\n",
    "])\n",
    "ohe_categorical_transformer = Pipeline(steps=[\n",
    "    ('imputer', SimpleImputer(strategy='most_frequent')),\n",
    "    ('encoder', OneHotEncoder(handle_unknown='ignore'))\n",
    "])\n",
    "numerical_transformer = Pipeline(steps=[\n",
    "    ('imputer', SimpleImputer(strategy='most_frequent')),\n",
    "])"
   ]
  },
  {
   "cell_type": "markdown",
   "id": "ded77ee6",
   "metadata": {},
   "source": [
    "## **RandomForest Classifier**"
   ]
  },
  {
   "cell_type": "code",
   "execution_count": 46,
   "id": "e5d26328",
   "metadata": {},
   "outputs": [
    {
     "data": {
      "text/html": [
       "<div>\n",
       "<style scoped>\n",
       "    .dataframe tbody tr th:only-of-type {\n",
       "        vertical-align: middle;\n",
       "    }\n",
       "\n",
       "    .dataframe tbody tr th {\n",
       "        vertical-align: top;\n",
       "    }\n",
       "\n",
       "    .dataframe thead th {\n",
       "        text-align: right;\n",
       "    }\n",
       "</style>\n",
       "<table border=\"1\" class=\"dataframe\">\n",
       "  <thead>\n",
       "    <tr style=\"text-align: right;\">\n",
       "      <th></th>\n",
       "      <th>precision</th>\n",
       "      <th>recall</th>\n",
       "      <th>f1-score</th>\n",
       "      <th>support</th>\n",
       "    </tr>\n",
       "  </thead>\n",
       "  <tbody>\n",
       "    <tr>\n",
       "      <th>0</th>\n",
       "      <td>0.936666</td>\n",
       "      <td>0.968490</td>\n",
       "      <td>0.952312</td>\n",
       "      <td>27991.000000</td>\n",
       "    </tr>\n",
       "    <tr>\n",
       "      <th>1</th>\n",
       "      <td>0.875035</td>\n",
       "      <td>0.771132</td>\n",
       "      <td>0.819805</td>\n",
       "      <td>8009.000000</td>\n",
       "    </tr>\n",
       "    <tr>\n",
       "      <th>accuracy</th>\n",
       "      <td>0.924583</td>\n",
       "      <td>0.924583</td>\n",
       "      <td>0.924583</td>\n",
       "      <td>0.924583</td>\n",
       "    </tr>\n",
       "    <tr>\n",
       "      <th>macro avg</th>\n",
       "      <td>0.905851</td>\n",
       "      <td>0.869811</td>\n",
       "      <td>0.886059</td>\n",
       "      <td>36000.000000</td>\n",
       "    </tr>\n",
       "    <tr>\n",
       "      <th>weighted avg</th>\n",
       "      <td>0.922955</td>\n",
       "      <td>0.924583</td>\n",
       "      <td>0.922833</td>\n",
       "      <td>36000.000000</td>\n",
       "    </tr>\n",
       "  </tbody>\n",
       "</table>\n",
       "</div>"
      ],
      "text/plain": [
       "              precision    recall  f1-score       support\n",
       "0              0.936666  0.968490  0.952312  27991.000000\n",
       "1              0.875035  0.771132  0.819805   8009.000000\n",
       "accuracy       0.924583  0.924583  0.924583      0.924583\n",
       "macro avg      0.905851  0.869811  0.886059  36000.000000\n",
       "weighted avg   0.922955  0.924583  0.922833  36000.000000"
      ]
     },
     "execution_count": 46,
     "metadata": {},
     "output_type": "execute_result"
    }
   ],
   "source": [
    "from sklearn.ensemble import RandomForestClassifier\n",
    "from sklearn.metrics import classification_report, confusion_matrix\n",
    "\n",
    "preprocessor = ColumnTransformer(transformers=[\n",
    "    ('num',numerical_transformer,num_feat),\n",
    "    ('ohe_cat',ohe_categorical_transformer,onehot_cols),\n",
    "    ('ord_cat',ord_categorical_transformer,ordinal_cols)\n",
    "])\n",
    "\n",
    "rf_pipeline = Pipeline(steps=[\n",
    "    ('preprocess',preprocessor),\n",
    "    ('classifier',RandomForestClassifier(random_state=42))\n",
    "])\n",
    "\n",
    "rf_pipeline.fit(X_train,y_train)\n",
    "rf_y_pred = rf_pipeline.predict(X_test)\n",
    "\n",
    "rf_report = classification_report(y_test, rf_y_pred, output_dict=True)\n",
    "pd.DataFrame(rf_report).transpose() \n",
    "\n"
   ]
  },
  {
   "cell_type": "code",
   "execution_count": 52,
   "id": "734b2775",
   "metadata": {},
   "outputs": [
    {
     "data": {
      "image/png": "[encoded data removed]",
      "text/plain": [
       "<Figure size 640x480 with 2 Axes>"
      ]
     },
     "metadata": {},
     "output_type": "display_data"
    }
   ],
   "source": [
    "sns.heatmap(confusion_matrix(y_test, rf_y_pred), annot=True, fmt='d')\n",
    "plt.xlabel('Predicted')\n",
    "plt.ylabel('True')\n",
    "plt.show()"
   ]
  },
  {
   "cell_type": "markdown",
   "id": "a6a135cd",
   "metadata": {},
   "source": [
    "## **Grid Search CV with RandomForest**"
   ]
  },
  {
   "cell_type": "code",
   "execution_count": null,
   "id": "7f98abf9",
   "metadata": {},
   "outputs": [
    {
     "name": "stdout",
     "output_type": "stream",
     "text": [
      "Fitting 5 folds for each of 48 candidates, totalling 240 fits\n"
     ]
    },
    {
     "data": {
      "text/html": [
       "<div>\n",
       "<style scoped>\n",
       "    .dataframe tbody tr th:only-of-type {\n",
       "        vertical-align: middle;\n",
       "    }\n",
       "\n",
       "    .dataframe tbody tr th {\n",
       "        vertical-align: top;\n",
       "    }\n",
       "\n",
       "    .dataframe thead th {\n",
       "        text-align: right;\n",
       "    }\n",
       "</style>\n",
       "<table border=\"1\" class=\"dataframe\">\n",
       "  <thead>\n",
       "    <tr style=\"text-align: right;\">\n",
       "      <th></th>\n",
       "      <th>precision</th>\n",
       "      <th>recall</th>\n",
       "      <th>f1-score</th>\n",
       "      <th>support</th>\n",
       "    </tr>\n",
       "  </thead>\n",
       "  <tbody>\n",
       "    <tr>\n",
       "      <th>0</th>\n",
       "      <td>0.936666</td>\n",
       "      <td>0.968490</td>\n",
       "      <td>0.952312</td>\n",
       "      <td>27991.000000</td>\n",
       "    </tr>\n",
       "    <tr>\n",
       "      <th>1</th>\n",
       "      <td>0.875035</td>\n",
       "      <td>0.771132</td>\n",
       "      <td>0.819805</td>\n",
       "      <td>8009.000000</td>\n",
       "    </tr>\n",
       "    <tr>\n",
       "      <th>accuracy</th>\n",
       "      <td>0.924583</td>\n",
       "      <td>0.924583</td>\n",
       "      <td>0.924583</td>\n",
       "      <td>0.924583</td>\n",
       "    </tr>\n",
       "    <tr>\n",
       "      <th>macro avg</th>\n",
       "      <td>0.905851</td>\n",
       "      <td>0.869811</td>\n",
       "      <td>0.886059</td>\n",
       "      <td>36000.000000</td>\n",
       "    </tr>\n",
       "    <tr>\n",
       "      <th>weighted avg</th>\n",
       "      <td>0.922955</td>\n",
       "      <td>0.924583</td>\n",
       "      <td>0.922833</td>\n",
       "      <td>36000.000000</td>\n",
       "    </tr>\n",
       "  </tbody>\n",
       "</table>\n",
       "</div>"
      ],
      "text/plain": [
       "              precision    recall  f1-score       support\n",
       "0              0.936666  0.968490  0.952312  27991.000000\n",
       "1              0.875035  0.771132  0.819805   8009.000000\n",
       "accuracy       0.924583  0.924583  0.924583      0.924583\n",
       "macro avg      0.905851  0.869811  0.886059  36000.000000\n",
       "weighted avg   0.922955  0.924583  0.922833  36000.000000"
      ]
     },
     "execution_count": 42,
     "metadata": {},
     "output_type": "execute_result"
    }
   ],
   "source": [
    "from sklearn.model_selection import GridSearchCV\n",
    "rf_pipeline = Pipeline(steps=[\n",
    "    ('preprocess',preprocessor),\n",
    "    ('classifier',RandomForestClassifier(random_state=42))\n",
    "])\n",
    "param_grid = {\n",
    "    'classifier__n_estimators': [100, 200],\n",
    "    'classifier__max_depth': [None, 10, 20],\n",
    "    'classifier__min_samples_split': [2, 5],\n",
    "    'classifier__min_samples_leaf': [1, 2],\n",
    "    'classifier__max_features': ['auto', 'sqrt']\n",
    "}\n",
    "\n",
    "gs_rf_pipeline = GridSearchCV(\n",
    "    estimator=rf_pipeline,\n",
    "    param_grid=param_grid,\n",
    "    cv=5,\n",
    "    scoring='accuracy', \n",
    "    n_jobs=-1,\n",
    "    verbose=2\n",
    ")\n",
    "\n",
    "gs_rf_pipeline.fit(X_train,y_train)\n",
    "gs_rf_y_pred = gs_rf_pipeline.predict(X_test)\n",
    "\n",
    "gs_rf_report = classification_report(y_test, rf_y_pred, output_dict=True)\n",
    "pd.DataFrame(gs_rf_report).transpose() \n"
   ]
  },
  {
   "cell_type": "code",
   "execution_count": 50,
   "id": "48af79df",
   "metadata": {},
   "outputs": [
    {
     "data": {
      "image/png": "[encoded data removed]",
      "text/plain": [
       "<Figure size 640x480 with 2 Axes>"
      ]
     },
     "metadata": {},
     "output_type": "display_data"
    }
   ],
   "source": [
    "sns.heatmap(confusion_matrix(y_test, gs_rf_y_pred), annot=True, fmt='d')\n",
    "plt.xlabel('Predicted')\n",
    "plt.ylabel('True')\n",
    "plt.show()"
   ]
  },
  {
   "cell_type": "markdown",
   "id": "a03a2aba",
   "metadata": {},
   "source": [
    "## **Logistic REGRESSION**"
   ]
  },
  {
   "cell_type": "code",
   "execution_count": null,
   "id": "a65770e4",
   "metadata": {},
   "outputs": [
    {
     "data": {
      "text/html": [
       "<div>\n",
       "<style scoped>\n",
       "    .dataframe tbody tr th:only-of-type {\n",
       "        vertical-align: middle;\n",
       "    }\n",
       "\n",
       "    .dataframe tbody tr th {\n",
       "        vertical-align: top;\n",
       "    }\n",
       "\n",
       "    .dataframe thead th {\n",
       "        text-align: right;\n",
       "    }\n",
       "</style>\n",
       "<table border=\"1\" class=\"dataframe\">\n",
       "  <thead>\n",
       "    <tr style=\"text-align: right;\">\n",
       "      <th></th>\n",
       "      <th>precision</th>\n",
       "      <th>recall</th>\n",
       "      <th>f1-score</th>\n",
       "      <th>support</th>\n",
       "    </tr>\n",
       "  </thead>\n",
       "  <tbody>\n",
       "    <tr>\n",
       "      <th>0</th>\n",
       "      <td>0.973941</td>\n",
       "      <td>0.823836</td>\n",
       "      <td>0.892622</td>\n",
       "      <td>27991.000000</td>\n",
       "    </tr>\n",
       "    <tr>\n",
       "      <th>1</th>\n",
       "      <td>0.599854</td>\n",
       "      <td>0.922962</td>\n",
       "      <td>0.727130</td>\n",
       "      <td>8009.000000</td>\n",
       "    </tr>\n",
       "    <tr>\n",
       "      <th>accuracy</th>\n",
       "      <td>0.845889</td>\n",
       "      <td>0.845889</td>\n",
       "      <td>0.845889</td>\n",
       "      <td>0.845889</td>\n",
       "    </tr>\n",
       "    <tr>\n",
       "      <th>macro avg</th>\n",
       "      <td>0.786897</td>\n",
       "      <td>0.873399</td>\n",
       "      <td>0.809876</td>\n",
       "      <td>36000.000000</td>\n",
       "    </tr>\n",
       "    <tr>\n",
       "      <th>weighted avg</th>\n",
       "      <td>0.890717</td>\n",
       "      <td>0.845889</td>\n",
       "      <td>0.855805</td>\n",
       "      <td>36000.000000</td>\n",
       "    </tr>\n",
       "  </tbody>\n",
       "</table>\n",
       "</div>"
      ],
      "text/plain": [
       "              precision    recall  f1-score       support\n",
       "0              0.973941  0.823836  0.892622  27991.000000\n",
       "1              0.599854  0.922962  0.727130   8009.000000\n",
       "accuracy       0.845889  0.845889  0.845889      0.845889\n",
       "macro avg      0.786897  0.873399  0.809876  36000.000000\n",
       "weighted avg   0.890717  0.845889  0.855805  36000.000000"
      ]
     },
     "execution_count": 32,
     "metadata": {},
     "output_type": "execute_result"
    }
   ],
   "source": [
    "from sklearn.linear_model import LogisticRegression\n",
    "import warnings\n",
    "\n",
    "warnings.filterwarnings(\"ignore\")\n",
    "\n",
    "lr_pipeline = Pipeline(steps=[\n",
    "    ('preprocess',preprocessor),\n",
    "    ('classifier',LogisticRegression(max_iter=100,random_state=42,class_weight='balanced'))\n",
    "])\n",
    "\n",
    "lr_pipeline.fit(X_train,y_train)\n",
    "lr_y_pred = lr_pipeline.predict(X_test)\n",
    "\n",
    "lr_report = classification_report(y_test, lr_y_pred, output_dict=True)\n",
    "pd.DataFrame(lr_report).transpose() "
   ]
  },
  {
   "cell_type": "code",
   "execution_count": 51,
   "id": "325a36a7",
   "metadata": {},
   "outputs": [
    {
     "data": {
      "image/png": "[encoded data removed]",
      "text/plain": [
       "<Figure size 640x480 with 2 Axes>"
      ]
     },
     "metadata": {},
     "output_type": "display_data"
    }
   ],
   "source": [
    "sns.heatmap(confusion_matrix(y_test, lr_y_pred), annot=True, fmt='d')\n",
    "plt.xlabel('Predicted')\n",
    "plt.ylabel('True')\n",
    "plt.show()"
   ]
  },
  {
   "cell_type": "markdown",
   "id": "7736520a",
   "metadata": {},
   "source": [
    "##  **Decision Tree Classifier**"
   ]
  },
  {
   "cell_type": "code",
   "execution_count": 48,
   "id": "d2da5ff5",
   "metadata": {},
   "outputs": [
    {
     "data": {
      "text/html": [
       "<div>\n",
       "<style scoped>\n",
       "    .dataframe tbody tr th:only-of-type {\n",
       "        vertical-align: middle;\n",
       "    }\n",
       "\n",
       "    .dataframe tbody tr th {\n",
       "        vertical-align: top;\n",
       "    }\n",
       "\n",
       "    .dataframe thead th {\n",
       "        text-align: right;\n",
       "    }\n",
       "</style>\n",
       "<table border=\"1\" class=\"dataframe\">\n",
       "  <thead>\n",
       "    <tr style=\"text-align: right;\">\n",
       "      <th></th>\n",
       "      <th>precision</th>\n",
       "      <th>recall</th>\n",
       "      <th>f1-score</th>\n",
       "      <th>support</th>\n",
       "    </tr>\n",
       "  </thead>\n",
       "  <tbody>\n",
       "    <tr>\n",
       "      <th>0</th>\n",
       "      <td>0.916813</td>\n",
       "      <td>0.971741</td>\n",
       "      <td>0.943478</td>\n",
       "      <td>27991.000000</td>\n",
       "    </tr>\n",
       "    <tr>\n",
       "      <th>1</th>\n",
       "      <td>0.875079</td>\n",
       "      <td>0.691847</td>\n",
       "      <td>0.772749</td>\n",
       "      <td>8009.000000</td>\n",
       "    </tr>\n",
       "    <tr>\n",
       "      <th>accuracy</th>\n",
       "      <td>0.909472</td>\n",
       "      <td>0.909472</td>\n",
       "      <td>0.909472</td>\n",
       "      <td>0.909472</td>\n",
       "    </tr>\n",
       "    <tr>\n",
       "      <th>macro avg</th>\n",
       "      <td>0.895946</td>\n",
       "      <td>0.831794</td>\n",
       "      <td>0.858114</td>\n",
       "      <td>36000.000000</td>\n",
       "    </tr>\n",
       "    <tr>\n",
       "      <th>weighted avg</th>\n",
       "      <td>0.907528</td>\n",
       "      <td>0.909472</td>\n",
       "      <td>0.905496</td>\n",
       "      <td>36000.000000</td>\n",
       "    </tr>\n",
       "  </tbody>\n",
       "</table>\n",
       "</div>"
      ],
      "text/plain": [
       "              precision    recall  f1-score       support\n",
       "0              0.916813  0.971741  0.943478  27991.000000\n",
       "1              0.875079  0.691847  0.772749   8009.000000\n",
       "accuracy       0.909472  0.909472  0.909472      0.909472\n",
       "macro avg      0.895946  0.831794  0.858114  36000.000000\n",
       "weighted avg   0.907528  0.909472  0.905496  36000.000000"
      ]
     },
     "execution_count": 48,
     "metadata": {},
     "output_type": "execute_result"
    }
   ],
   "source": [
    "from sklearn.tree import DecisionTreeClassifier\n",
    "import warnings\n",
    "\n",
    "warnings.filterwarnings(\"ignore\")\n",
    "\n",
    "dt_pipeline = Pipeline(steps=[\n",
    "    ('preprocess',preprocessor),\n",
    "    ('classifier',DecisionTreeClassifier(criterion='entropy', random_state=42, max_depth=5))\n",
    "])\n",
    "\n",
    "dt_pipeline.fit(X_train,y_train)\n",
    "dt_y_pred = dt_pipeline.predict(X_test)\n",
    "\n",
    "dt_report = classification_report(y_test, dt_y_pred, output_dict=True)\n",
    "pd.DataFrame(dt_report).transpose() \n",
    "\n"
   ]
  },
  {
   "cell_type": "code",
   "execution_count": 49,
   "id": "7e6b5fa9",
   "metadata": {},
   "outputs": [
    {
     "data": {
      "image/png": "[encoded data removed]",
      "text/plain": [
       "<Figure size 640x480 with 2 Axes>"
      ]
     },
     "metadata": {},
     "output_type": "display_data"
    }
   ],
   "source": [
    "sns.heatmap(confusion_matrix(y_test, dt_y_pred), annot=True, fmt='d')\n",
    "plt.xlabel('Predicted')\n",
    "plt.ylabel('True')\n",
    "plt.show()"
   ]
  },
  {
   "cell_type": "code",
   "execution_count": null,
   "id": "c7b39bfa",
   "metadata": {},
   "outputs": [],
   "source": []
  }
 ],
 "metadata": {
  "kernelspec": {
   "display_name": ".venv",
   "language": "python",
   "name": "python3"
  },
  "language_info": {
   "codemirror_mode": {
    "name": "ipython",
    "version": 3
   },
   "file_extension": ".py",
   "mimetype": "text/x-python",
   "name": "python",
   "nbconvert_exporter": "python",
   "pygments_lexer": "ipython3",
   "version": "3.11.3"
  }
 },
 "nbformat": 4,
 "nbformat_minor": 5
}
